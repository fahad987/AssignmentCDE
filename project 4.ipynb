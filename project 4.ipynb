{
 "cells": [
  {
   "cell_type": "markdown",
   "id": "8da66890-80f3-4afe-bf89-882e8673167e",
   "metadata": {},
   "source": [
    "1. Write a program that accepts a list from user and print the alternate element of list. \n"
   ]
  },
  {
   "cell_type": "code",
   "execution_count": null,
   "id": "5f5c2430-cdd4-47ae-bf42-e3da0a8e5a86",
   "metadata": {},
   "outputs": [],
   "source": []
  },
  {
   "cell_type": "markdown",
   "id": "dddcbea7-17aa-4626-bb38-1da474846121",
   "metadata": {},
   "source": [
    "2. Write a program that accepts a list from user. Your program should reverse the content of list and \n",
    "display it. Do not use reverse() method.  "
   ]
  },
  {
   "cell_type": "code",
   "execution_count": null,
   "id": "54693d4c-c557-41f7-911c-80ee8690db8f",
   "metadata": {},
   "outputs": [],
   "source": [
    "\n",
    "user_input = input(\"Enter elements of list separated by space: \")\n",
    "lst = user_input.split()   # convert input into list\n",
    "\n",
    "# Reverse manually using slicing\n",
    "reversed_list = lst[::-1]\n",
    "\n",
    "# Display result\n",
    "print(\"Original List:\", lst)\n",
    "print(\"Reversed List:\", reversed_list)\n"
   ]
  },
  {
   "cell_type": "markdown",
   "id": "7684d493-578c-4516-a7a4-387d26242947",
   "metadata": {},
   "source": [
    "3. Find and display the largest number of a list without using built-in function max(). Your program \n",
    "should ask the user to input values in list from keyboard."
   ]
  },
  {
   "cell_type": "code",
   "execution_count": 9,
   "id": "29f9289f-795f-4fd3-9217-8c6bee974f25",
   "metadata": {},
   "outputs": [
    {
     "name": "stdin",
     "output_type": "stream",
     "text": [
      "Enter numbers separated by space:  x\n"
     ]
    },
    {
     "ename": "ValueError",
     "evalue": "invalid literal for int() with base 10: 'x'",
     "output_type": "error",
     "traceback": [
      "\u001b[1;31m---------------------------------------------------------------------------\u001b[0m",
      "\u001b[1;31mValueError\u001b[0m                                Traceback (most recent call last)",
      "Cell \u001b[1;32mIn[9], line 3\u001b[0m\n\u001b[0;32m      1\u001b[0m numbers \u001b[38;5;241m=\u001b[39m \u001b[38;5;28minput\u001b[39m(\u001b[38;5;124m\"\u001b[39m\u001b[38;5;124mEnter numbers separated by space: \u001b[39m\u001b[38;5;124m\"\u001b[39m)\n\u001b[1;32m----> 3\u001b[0m numbers_list \u001b[38;5;241m=\u001b[39m [\u001b[38;5;28mint\u001b[39m(x) \u001b[38;5;28;01mfor\u001b[39;00m x \u001b[38;5;129;01min\u001b[39;00m numbers\u001b[38;5;241m.\u001b[39msplit()]\n\u001b[0;32m      5\u001b[0m largest \u001b[38;5;241m=\u001b[39m numbers_list[\u001b[38;5;241m0\u001b[39m]\n\u001b[0;32m      7\u001b[0m \u001b[38;5;28;01mfor\u001b[39;00m num \u001b[38;5;129;01min\u001b[39;00m numbers_list:\n",
      "\u001b[1;31mValueError\u001b[0m: invalid literal for int() with base 10: 'x'"
     ]
    }
   ],
   "source": [
    "numbers = input(\"Enter numbers separated by space: \")\n",
    "\n",
    "numbers_list = [int(x) for x in numbers.split()]\n",
    "\n",
    "largest = numbers_list[0]\n",
    "\n",
    "for num in numbers_list:\n",
    "    if num > largest:\n",
    "        largest = num\n",
    "\n",
    "print(\"The largest number is:\", largest)\n"
   ]
  },
  {
   "cell_type": "markdown",
   "id": "7397b164-c739-437f-a018-2321310e861f",
   "metadata": {},
   "source": [
    "4. Write a program that rotates the element of a list so that the element at the first index moves to the \n",
    "second index, the element in the second index moves to the third index, etc., and the element in the last \n",
    "index moves to the first index.  "
   ]
  },
  {
   "cell_type": "code",
   "execution_count": 8,
   "id": "cbd5cabe-01e9-4c19-9e47-72eca13508e2",
   "metadata": {},
   "outputs": [
    {
     "name": "stdout",
     "output_type": "stream",
     "text": [
      "Original List: [10, 20, 30, 40, 50]\n",
      "Rotated List: [50, 10, 20, 30, 40]\n"
     ]
    }
   ],
   "source": [
    "my_list = [10, 20, 30, 40, 50]\n",
    "\n",
    "print(\"Original List:\", my_list)\n",
    "\n",
    "rotated_list = [my_list[-1]] + my_list[:-1]\n",
    "\n",
    "print(\"Rotated List:\", rotated_list)\n"
   ]
  },
  {
   "cell_type": "markdown",
   "id": "f88cde4c-6b3d-4e48-ba93-553070887bcd",
   "metadata": {},
   "source": [
    "5. Write a program that input a string and ask user to delete a given word from a string.  \n"
   ]
  },
  {
   "cell_type": "code",
   "execution_count": 7,
   "id": "213d84c4-8975-4cec-b248-31ece267402d",
   "metadata": {},
   "outputs": [
    {
     "name": "stdin",
     "output_type": "stream",
     "text": [
      "Enter a sentence:  x\n",
      "Enter the word you want to delete:  z\n"
     ]
    },
    {
     "name": "stdout",
     "output_type": "stream",
     "text": [
      "Sentence after deleting the word:\n",
      "x\n"
     ]
    }
   ],
   "source": [
    "text = input(\"Enter a sentence: \")\n",
    "\n",
    "word = input(\"Enter the word you want to delete: \")\n",
    "\n",
    "new_text = text.replace(word, \"\")\n",
    "\n",
    "print(\"Sentence after deleting the word:\")\n",
    "print(new_text)\n"
   ]
  },
  {
   "cell_type": "markdown",
   "id": "8ec1e748-5d04-43b1-824d-60c57b796da6",
   "metadata": {},
   "source": [
    "6. Write a program that reads a string from the user containing a date in the form mm/dd/yyyy. It \n",
    "should print the date in the form March 12, 2021. "
   ]
  },
  {
   "cell_type": "code",
   "execution_count": 5,
   "id": "1f9679a7-b343-45b5-895f-f5330a554126",
   "metadata": {},
   "outputs": [
    {
     "name": "stdin",
     "output_type": "stream",
     "text": [
      "Enter date (mm/dd/yyyy):  sx\n"
     ]
    },
    {
     "ename": "ValueError",
     "evalue": "not enough values to unpack (expected 3, got 1)",
     "output_type": "error",
     "traceback": [
      "\u001b[1;31m---------------------------------------------------------------------------\u001b[0m",
      "\u001b[1;31mValueError\u001b[0m                                Traceback (most recent call last)",
      "Cell \u001b[1;32mIn[5], line 8\u001b[0m\n\u001b[0;32m      1\u001b[0m months \u001b[38;5;241m=\u001b[39m {\n\u001b[0;32m      2\u001b[0m     \u001b[38;5;124m\"\u001b[39m\u001b[38;5;124m01\u001b[39m\u001b[38;5;124m\"\u001b[39m: \u001b[38;5;124m\"\u001b[39m\u001b[38;5;124mJanuary\u001b[39m\u001b[38;5;124m\"\u001b[39m, \u001b[38;5;124m\"\u001b[39m\u001b[38;5;124m02\u001b[39m\u001b[38;5;124m\"\u001b[39m: \u001b[38;5;124m\"\u001b[39m\u001b[38;5;124mFebruary\u001b[39m\u001b[38;5;124m\"\u001b[39m, \u001b[38;5;124m\"\u001b[39m\u001b[38;5;124m03\u001b[39m\u001b[38;5;124m\"\u001b[39m: \u001b[38;5;124m\"\u001b[39m\u001b[38;5;124mMarch\u001b[39m\u001b[38;5;124m\"\u001b[39m, \u001b[38;5;124m\"\u001b[39m\u001b[38;5;124m04\u001b[39m\u001b[38;5;124m\"\u001b[39m: \u001b[38;5;124m\"\u001b[39m\u001b[38;5;124mApril\u001b[39m\u001b[38;5;124m\"\u001b[39m,\n\u001b[0;32m      3\u001b[0m     \u001b[38;5;124m\"\u001b[39m\u001b[38;5;124m05\u001b[39m\u001b[38;5;124m\"\u001b[39m: \u001b[38;5;124m\"\u001b[39m\u001b[38;5;124mMay\u001b[39m\u001b[38;5;124m\"\u001b[39m, \u001b[38;5;124m\"\u001b[39m\u001b[38;5;124m06\u001b[39m\u001b[38;5;124m\"\u001b[39m: \u001b[38;5;124m\"\u001b[39m\u001b[38;5;124mJune\u001b[39m\u001b[38;5;124m\"\u001b[39m, \u001b[38;5;124m\"\u001b[39m\u001b[38;5;124m07\u001b[39m\u001b[38;5;124m\"\u001b[39m: \u001b[38;5;124m\"\u001b[39m\u001b[38;5;124mJuly\u001b[39m\u001b[38;5;124m\"\u001b[39m, \u001b[38;5;124m\"\u001b[39m\u001b[38;5;124m08\u001b[39m\u001b[38;5;124m\"\u001b[39m: \u001b[38;5;124m\"\u001b[39m\u001b[38;5;124mAugust\u001b[39m\u001b[38;5;124m\"\u001b[39m,\n\u001b[0;32m      4\u001b[0m     \u001b[38;5;124m\"\u001b[39m\u001b[38;5;124m09\u001b[39m\u001b[38;5;124m\"\u001b[39m: \u001b[38;5;124m\"\u001b[39m\u001b[38;5;124mSeptember\u001b[39m\u001b[38;5;124m\"\u001b[39m, \u001b[38;5;124m\"\u001b[39m\u001b[38;5;124m10\u001b[39m\u001b[38;5;124m\"\u001b[39m: \u001b[38;5;124m\"\u001b[39m\u001b[38;5;124mOctober\u001b[39m\u001b[38;5;124m\"\u001b[39m, \u001b[38;5;124m\"\u001b[39m\u001b[38;5;124m11\u001b[39m\u001b[38;5;124m\"\u001b[39m: \u001b[38;5;124m\"\u001b[39m\u001b[38;5;124mNovember\u001b[39m\u001b[38;5;124m\"\u001b[39m, \u001b[38;5;124m\"\u001b[39m\u001b[38;5;124m12\u001b[39m\u001b[38;5;124m\"\u001b[39m: \u001b[38;5;124m\"\u001b[39m\u001b[38;5;124mDecember\u001b[39m\u001b[38;5;124m\"\u001b[39m\n\u001b[0;32m      5\u001b[0m }\n\u001b[0;32m      7\u001b[0m date \u001b[38;5;241m=\u001b[39m \u001b[38;5;28minput\u001b[39m(\u001b[38;5;124m\"\u001b[39m\u001b[38;5;124mEnter date (mm/dd/yyyy): \u001b[39m\u001b[38;5;124m\"\u001b[39m)\n\u001b[1;32m----> 8\u001b[0m mm, dd, yyyy \u001b[38;5;241m=\u001b[39m date\u001b[38;5;241m.\u001b[39msplit(\u001b[38;5;124m\"\u001b[39m\u001b[38;5;124m/\u001b[39m\u001b[38;5;124m\"\u001b[39m)\n\u001b[0;32m     10\u001b[0m \u001b[38;5;28mprint\u001b[39m(months[mm], \u001b[38;5;28mint\u001b[39m(dd), \u001b[38;5;124m\"\u001b[39m\u001b[38;5;124m,\u001b[39m\u001b[38;5;124m\"\u001b[39m, yyyy)\n",
      "\u001b[1;31mValueError\u001b[0m: not enough values to unpack (expected 3, got 1)"
     ]
    }
   ],
   "source": [
    "months = {\n",
    "    \"01\": \"January\", \"02\": \"February\", \"03\": \"March\", \"04\": \"April\",\n",
    "    \"05\": \"May\", \"06\": \"June\", \"07\": \"July\", \"08\": \"August\",\n",
    "    \"09\": \"September\", \"10\": \"October\", \"11\": \"November\", \"12\": \"December\"\n",
    "}\n",
    "\n",
    "date = input(\"Enter date (mm/dd/yyyy): \")\n",
    "mm, dd, yyyy = date.split(\"/\")\n",
    "\n",
    "print(months[mm], int(dd), \",\", yyyy)\n"
   ]
  },
  {
   "cell_type": "markdown",
   "id": "f2b86c67-593d-45cb-bcd8-186b43c2baf9",
   "metadata": {},
   "source": [
    "7. Write a program with a function that accepts a string from keyboard and create a new string after \n",
    "converting character of each word capitalized. For instance, if the sentence is \"stop and smell the roses.\" \n",
    "the output should be \"Stop And Smell The Roses\""
   ]
  },
  {
   "cell_type": "code",
   "execution_count": 4,
   "id": "d1728067-12d2-44a2-b318-b510dfba6853",
   "metadata": {},
   "outputs": [
    {
     "name": "stdin",
     "output_type": "stream",
     "text": [
      "Enter a sentence:  x\n"
     ]
    },
    {
     "name": "stdout",
     "output_type": "stream",
     "text": [
      "Output: X\n"
     ]
    }
   ],
   "source": [
    "def capitalize_words(sentence):\n",
    "    return sentence.title()\n",
    "\n",
    "text = input(\"Enter a sentence: \")\n",
    "new_text = capitalize_words(text)\n",
    "print(\"Output:\", new_text)\n"
   ]
  },
  {
   "cell_type": "markdown",
   "id": "deb08018-838b-4ed0-bef3-e5317521e5bc",
   "metadata": {},
   "source": [
    "8. Find the sum of each row of matrix of size m x n. For example for the following matrix output will be \n",
    "like this :     \n",
    "2 11 7 12    \n",
    "5 2  9 15    \n",
    "8 3 10 42    \n",
    "Sum of row 1 = 32      \n",
    "Sum of row 2 = 31     \n",
    "Sum of row 3 = 63    "
   ]
  },
  {
   "cell_type": "code",
   "execution_count": 1,
   "id": "e4ff696c-e4f2-471c-9308-1f91c8f2df7e",
   "metadata": {},
   "outputs": [
    {
     "name": "stdout",
     "output_type": "stream",
     "text": [
      "2 11 7 12\n",
      "Sum of row 1 = 32\n",
      "5 2 9 15\n",
      "Sum of row 2 = 31\n",
      "8 3 10 42\n",
      "Sum of row 3 = 63\n"
     ]
    }
   ],
   "source": [
    "matrix = [\n",
    "    [2, 11, 7, 12],\n",
    "    [5, 2, 9, 15],\n",
    "    [8, 3, 10, 42]\n",
    "]\n",
    "\n",
    "for i in range(len(matrix)):\n",
    "    row = matrix[i]\n",
    "    print(*row)  \n",
    "    row_sum = sum(row)\n",
    "    print(\"Sum of row\", i+1, \"=\", row_sum)\n"
   ]
  },
  {
   "cell_type": "markdown",
   "id": "50a11270-6362-46d3-8dff-1fa4ff09fa46",
   "metadata": {},
   "source": [
    "9. Write a program to add two matrices of size n x m. \n"
   ]
  },
  {
   "cell_type": "code",
   "execution_count": 3,
   "id": "d04bcdca-d136-4eb9-b37b-b5173669ae14",
   "metadata": {},
   "outputs": [
    {
     "name": "stdout",
     "output_type": "stream",
     "text": [
      "Result of A + B:\n",
      "8 [6, 8]\n",
      "12 [10, 12]\n"
     ]
    }
   ],
   "source": [
    "A = [\n",
    "    [1, 2],\n",
    "    [3, 4]\n",
    "]\n",
    "B = [\n",
    "    [5, 6],\n",
    "    [7, 8]\n",
    "]\n",
    "C = [\n",
    "    [0, 0],\n",
    "    [0, 0]\n",
    "]\n",
    "\n",
    "for i in range(2):        \n",
    "    for j in range(2):    \n",
    "        C[i][j] = A[i][j] + B[i][j]\n",
    "\n",
    "print(\"Result of A + B:\")\n",
    "for i in range(2):\n",
    "    print(C[i][j], end=\" \")\n",
    "    print(C[i])\n"
   ]
  },
  {
   "cell_type": "markdown",
   "id": "a5b686e3-3dad-4fab-949a-5b69b6d02b38",
   "metadata": {},
   "source": [
    "10. Write a program to multiply two matrices "
   ]
  },
  {
   "cell_type": "code",
   "execution_count": 2,
   "id": "bc93fbcb-6819-4e00-b466-20f29e497f2a",
   "metadata": {},
   "outputs": [
    {
     "name": "stdout",
     "output_type": "stream",
     "text": [
      "Result matrix:\n",
      "[19, 22]\n",
      "[43, 50]\n"
     ]
    }
   ],
   "source": [
    "\n",
    "A = [[1, 2],\n",
    "     [3, 4]]\n",
    "\n",
    "B = [[5, 6],\n",
    "     [7, 8]]\n",
    "\n",
    "result = [[0, 0],\n",
    "          [0, 0]]\n",
    "\n",
    "for i in range(2):        \n",
    "    for j in range(2):    \n",
    "        for k in range(2):\n",
    "            result[i][j] = result[i][j] + A[i][k] * B[k][j]\n",
    "\n",
    "print(\"Result matrix:\")\n",
    "for row in result:\n",
    "    print(row)\n"
   ]
  }
 ],
 "metadata": {
  "kernelspec": {
   "display_name": "Python [conda env:base] *",
   "language": "python",
   "name": "conda-base-py"
  },
  "language_info": {
   "codemirror_mode": {
    "name": "ipython",
    "version": 3
   },
   "file_extension": ".py",
   "mimetype": "text/x-python",
   "name": "python",
   "nbconvert_exporter": "python",
   "pygments_lexer": "ipython3",
   "version": "3.13.5"
  },
  "widgets": {
   "application/vnd.jupyter.widget-state+json": {
    "state": {},
    "version_major": 2,
    "version_minor": 0
   }
  }
 },
 "nbformat": 4,
 "nbformat_minor": 5
}
