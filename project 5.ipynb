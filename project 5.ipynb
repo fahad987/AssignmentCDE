{
 "cells": [
  {
   "cell_type": "markdown",
   "id": "f39f24f8-760b-4fb9-86d0-ab9db3347366",
   "metadata": {},
   "source": [
    "# Looping Structures"
   ]
  },
  {
   "cell_type": "markdown",
   "id": "f14eca59-4577-4524-9f5e-a717e7afa82d",
   "metadata": {},
   "source": [
    "1. Write a Python program to print the numbers from 1 to 10 using a for loop.  "
   ]
  },
  {
   "cell_type": "code",
   "execution_count": 2,
   "id": "6e637dca-9877-4491-b3ca-2fc82c43d49a",
   "metadata": {},
   "outputs": [
    {
     "name": "stdout",
     "output_type": "stream",
     "text": [
      "1\n",
      "2\n",
      "3\n",
      "4\n",
      "5\n",
      "6\n",
      "7\n",
      "8\n",
      "9\n",
      "10\n"
     ]
    }
   ],
   "source": [
    "for number in range(1, 11):\n",
    "    print(number)\n"
   ]
  },
  {
   "cell_type": "markdown",
   "id": "3c788f7e-f1d3-43c7-9205-be0ba0505033",
   "metadata": {},
   "source": [
    "2. Write a Python program to print the numbers from 20 to 1 using a while loop."
   ]
  },
  {
   "cell_type": "code",
   "execution_count": 3,
   "id": "fc3e1265-2218-4091-9a9b-09b2a2bdf742",
   "metadata": {},
   "outputs": [
    {
     "name": "stdout",
     "output_type": "stream",
     "text": [
      "20\n",
      "19\n",
      "18\n",
      "17\n",
      "16\n",
      "15\n",
      "14\n",
      "13\n",
      "12\n",
      "11\n",
      "10\n",
      "9\n",
      "8\n",
      "7\n",
      "6\n",
      "5\n",
      "4\n",
      "3\n",
      "2\n",
      "1\n"
     ]
    }
   ],
   "source": [
    "number = 20\n",
    "while number >= 1:\n",
    "    print(number)\n",
    "    number -= 1\n"
   ]
  },
  {
   "cell_type": "markdown",
   "id": "090902f5-fed2-4729-902e-cfa0d61d040e",
   "metadata": {},
   "source": [
    "3. Write a program to print even numbers from 1 to 10.   \n"
   ]
  },
  {
   "cell_type": "code",
   "execution_count": 7,
   "id": "eec9ccae-6bb1-4b8c-b18e-6613790ea93b",
   "metadata": {},
   "outputs": [
    {
     "name": "stdout",
     "output_type": "stream",
     "text": [
      "2\n",
      "4\n",
      "6\n",
      "8\n",
      "10\n"
     ]
    }
   ],
   "source": [
    "for number in range(1, 11):\n",
    "    if number % 2 == 0:\n",
    "        print(number)\n"
   ]
  },
  {
   "cell_type": "markdown",
   "id": "d385ba1d-04f0-4951-8c0e-3c72416a9591",
   "metadata": {},
   "source": [
    "4. Write a program that prompts the user to enter a number n and prints all the \n",
    "numbers from 1 to n. "
   ]
  },
  {
   "cell_type": "code",
   "execution_count": 9,
   "id": "867c1d49-7544-4663-a27a-9d623610309c",
   "metadata": {},
   "outputs": [
    {
     "name": "stdin",
     "output_type": "stream",
     "text": [
      "Enter a number:  2\n"
     ]
    },
    {
     "name": "stdout",
     "output_type": "stream",
     "text": [
      "1\n",
      "2\n"
     ]
    }
   ],
   "source": [
    "n = int(input(\"Enter a number: \"))\n",
    "\n",
    "for number in range(1, n + 1):\n",
    "    print(number)\n"
   ]
  },
  {
   "cell_type": "markdown",
   "id": "ba1a9093-5574-413a-8f8d-d6649873e9be",
   "metadata": {},
   "source": [
    "5. Write a program that prompts the user to enter a number n, and then prints all the \n",
    "odd numbers between 1 and n.  "
   ]
  },
  {
   "cell_type": "code",
   "execution_count": 10,
   "id": "bdb4dd96-bf5c-437a-9c70-ceb098d1b802",
   "metadata": {},
   "outputs": [
    {
     "name": "stdin",
     "output_type": "stream",
     "text": [
      "Enter a number:  2\n"
     ]
    },
    {
     "name": "stdout",
     "output_type": "stream",
     "text": [
      "1\n"
     ]
    }
   ],
   "source": [
    "n = int(input(\"Enter a number: \"))\n",
    "\n",
    "for number in range(1, n + 1):\n",
    "    if number % 2 != 0:  \n",
    "        print(number)\n"
   ]
  },
  {
   "cell_type": "markdown",
   "id": "c3fda784-2ae6-4e29-a55a-4c2f52206f3f",
   "metadata": {},
   "source": [
    "6. Write a program that prints 'Happy Birthday!' five times on screen. `"
   ]
  },
  {
   "cell_type": "code",
   "execution_count": 11,
   "id": "199beec6-42bd-48db-b41f-50e4491e66ec",
   "metadata": {},
   "outputs": [
    {
     "name": "stdout",
     "output_type": "stream",
     "text": [
      "Happy Birthday!\n",
      "Happy Birthday!\n",
      "Happy Birthday!\n",
      "Happy Birthday!\n",
      "Happy Birthday!\n"
     ]
    }
   ],
   "source": [
    "for i in range(5):\n",
    "    print(\"Happy Birthday!\")\n"
   ]
  },
  {
   "cell_type": "markdown",
   "id": "48b46b5c-20a7-4a34-a340-f7373f31ad0a",
   "metadata": {},
   "source": [
    "7. Write a program that takes a number n as input from the user and generates the first \n",
    "n terms of the series formed by squaring the natural numbers. \n",
    "Sample output     \n",
    "Enter a number: 6    \n",
    "The first 6 terms of the series are:    \n",
    "1 4 9 16 25 36   "
   ]
  },
  {
   "cell_type": "code",
   "execution_count": 13,
   "id": "8951c8d5-1bc4-444f-a49d-9c495123cdc0",
   "metadata": {},
   "outputs": [
    {
     "name": "stdin",
     "output_type": "stream",
     "text": [
      "Enter a number:  2\n"
     ]
    },
    {
     "name": "stdout",
     "output_type": "stream",
     "text": [
      "The first 2 terms of the series are:\n",
      "1 4 "
     ]
    }
   ],
   "source": [
    "\n",
    "n = int(input(\"Enter a number: \"))\n",
    "\n",
    "print(f\"The first {n} terms of the series are:\")\n",
    "\n",
    "for i in range(1, n + 1):\n",
    "    print(i * i, end=\" \")\n"
   ]
  },
  {
   "cell_type": "markdown",
   "id": "6de94770-67a3-4ee2-a7c5-963cfb9a20ea",
   "metadata": {},
   "source": [
    "8. Write a program that prompts the user to input a number and prints its multiplication \n",
    "table.  "
   ]
  },
  {
   "cell_type": "code",
   "execution_count": 14,
   "id": "114c540d-1617-43be-b0ac-5646f279626d",
   "metadata": {},
   "outputs": [
    {
     "name": "stdin",
     "output_type": "stream",
     "text": [
      "Enter a number:  3\n"
     ]
    },
    {
     "name": "stdout",
     "output_type": "stream",
     "text": [
      "Multiplication Table of 3:\n",
      "3 x 1 = 3\n",
      "3 x 2 = 6\n",
      "3 x 3 = 9\n",
      "3 x 4 = 12\n",
      "3 x 5 = 15\n",
      "3 x 6 = 18\n",
      "3 x 7 = 21\n",
      "3 x 8 = 24\n",
      "3 x 9 = 27\n",
      "3 x 10 = 30\n"
     ]
    }
   ],
   "source": [
    "n = int(input(\"Enter a number: \"))\n",
    "\n",
    "print(f\"Multiplication Table of {n}:\")\n",
    "for i in range(1, 11):\n",
    "    print(f\"{n} x {i} = {n * i}\")\n"
   ]
  },
  {
   "cell_type": "markdown",
   "id": "a3996361-dcdd-46fa-9e75-0cd4e9d9d6b9",
   "metadata": {},
   "source": [
    "9. Write a Python program to print the first 8 terms of an arithmetic progression starting \n",
    "with 3 and having a common difference of 4. \n",
    "The program should output the following sequence: \n",
    "3 7 11 15 19 23 27 31 "
   ]
  },
  {
   "cell_type": "code",
   "execution_count": 15,
   "id": "e6c979b9-5f9b-4589-b0c5-d44d295da536",
   "metadata": {},
   "outputs": [
    {
     "name": "stdout",
     "output_type": "stream",
     "text": [
      "The first 8 terms of the AP are:\n",
      "3 7 11 15 19 23 27 31 "
     ]
    }
   ],
   "source": [
    "start = 3      \n",
    "diff = 4        \n",
    "terms = 8       \n",
    "\n",
    "print(\"The first 8 terms of the AP are:\")\n",
    "for i in range(terms):\n",
    "    term = start + i * diff\n",
    "    print(term, end=\" \")\n"
   ]
  },
  {
   "cell_type": "markdown",
   "id": "05ecec04-ece5-4707-9cfb-1d83bffaa73f",
   "metadata": {},
   "source": [
    "10. Write a Python program to print the first 6 terms of a geometric sequence starting\n",
    "    with 2 and having a common ratio of 3.     \n",
    "The program should output the following sequence:    \n",
    "2 6 18 54 162 486   "
   ]
  },
  {
   "cell_type": "code",
   "execution_count": 17,
   "id": "e4d70f62-f5f3-4b02-b483-2f840f80c719",
   "metadata": {},
   "outputs": [
    {
     "name": "stdout",
     "output_type": "stream",
     "text": [
      "The first 6 terms of the geometric sequence are:\n",
      "2 6 18 54 162 486 "
     ]
    }
   ],
   "source": [
    "\n",
    "start = 2       \n",
    "ratio = 3       \n",
    "terms = 6       \n",
    "\n",
    "print(\"The first 6 terms of the geometric sequence are:\")\n",
    "\n",
    "for i in range(terms):\n",
    "    term = start * (ratio ** i)\n",
    "    print(term, end=\" \")\n"
   ]
  },
  {
   "cell_type": "markdown",
   "id": "ba97d41a-0cac-4465-9cc4-74ccf651084e",
   "metadata": {},
   "source": [
    "11. Write a program that asks the user for a positive integer value. The program should \n",
    "calculate the sum of all the integers from 1 up to the number entered. For example, if \n",
    "the user enters 20, the loop will find the sum of 1, 2, 3, 4, ... 20. "
   ]
  },
  {
   "cell_type": "code",
   "execution_count": 18,
   "id": "456cee09-8822-4197-bf4e-0d6565fdcea9",
   "metadata": {},
   "outputs": [
    {
     "name": "stdin",
     "output_type": "stream",
     "text": [
      "Enter a positive integer:  2\n"
     ]
    },
    {
     "name": "stdout",
     "output_type": "stream",
     "text": [
      "The sum of numbers from 1 to 2 is: 3\n"
     ]
    }
   ],
   "source": [
    "n = int(input(\"Enter a positive integer: \"))\n",
    "\n",
    "total = 0\n",
    "for i in range(1, n + 1):\n",
    "    total += i\n",
    "\n",
    "print(f\"The sum of numbers from 1 to {n} is: {total}\")\n"
   ]
  },
  {
   "cell_type": "markdown",
   "id": "275aa872-d367-454f-b4e0-e8a1a05cebe0",
   "metadata": {},
   "source": [
    "12. write a program that takes a positive integer N as input and calculates the sum of \n",
    "the reciprocals of all numbers from 1 up to N. The program should display the final sum. \n",
    "Output of the program should be like:     \n",
    "Enter a positive integer: 5     \n",
    "The sum of reciprocals from 1 to 5 is: 2.28     "
   ]
  },
  {
   "cell_type": "code",
   "execution_count": 20,
   "id": "8547cf14-41a8-4ba6-9ba5-54a36f18ab0b",
   "metadata": {},
   "outputs": [
    {
     "name": "stdin",
     "output_type": "stream",
     "text": [
      "Enter a positive integer:  2\n"
     ]
    },
    {
     "name": "stdout",
     "output_type": "stream",
     "text": [
      "The sum of reciprocals from 1 to 2 is: 1.50\n"
     ]
    }
   ],
   "source": [
    "\n",
    "N = int(input(\"Enter a positive integer: \"))\n",
    "\n",
    "total = 0\n",
    "for i in range(1, N + 1):\n",
    "    total += 1 / i\n",
    "\n",
    "print(f\"The sum of reciprocals from 1 to {N} is: {total:.2f}\")\n"
   ]
  },
  {
   "cell_type": "markdown",
   "id": "d90b8ac1-ed8d-4f89-86d4-d873b45c8d75",
   "metadata": {},
   "source": [
    "13. Write a program that prompts the user to enter a number and repeats this process 5 \n",
    "times. The program should accumulate the numbers entered and then display the final \n",
    "running total.    \n",
    "Sample Output: \n",
    "Enter a number: 10     \n",
    "Enter a number: 15     \n",
    "Enter a number: 35      \n",
    "Enter a number: 40    \n",
    "Enter a number: 50     \n",
    "The final running total is: 150   "
   ]
  },
  {
   "cell_type": "code",
   "execution_count": 24,
   "id": "32aff8f5-088c-4c35-831a-45942a5bc411",
   "metadata": {},
   "outputs": [
    {
     "name": "stdin",
     "output_type": "stream",
     "text": [
      "Enter a number:  w\n"
     ]
    },
    {
     "ename": "ValueError",
     "evalue": "invalid literal for int() with base 10: 'w'",
     "output_type": "error",
     "traceback": [
      "\u001b[1;31m---------------------------------------------------------------------------\u001b[0m",
      "\u001b[1;31mValueError\u001b[0m                                Traceback (most recent call last)",
      "Cell \u001b[1;32mIn[24], line 4\u001b[0m\n\u001b[0;32m      1\u001b[0m total \u001b[38;5;241m=\u001b[39m \u001b[38;5;241m0\u001b[39m\n\u001b[0;32m      3\u001b[0m \u001b[38;5;28;01mfor\u001b[39;00m i \u001b[38;5;129;01min\u001b[39;00m \u001b[38;5;28mrange\u001b[39m(\u001b[38;5;241m5\u001b[39m):\n\u001b[1;32m----> 4\u001b[0m     num \u001b[38;5;241m=\u001b[39m \u001b[38;5;28mint\u001b[39m(\u001b[38;5;28minput\u001b[39m(\u001b[38;5;124m\"\u001b[39m\u001b[38;5;124mEnter a number: \u001b[39m\u001b[38;5;124m\"\u001b[39m))\n\u001b[0;32m      5\u001b[0m     total \u001b[38;5;241m+\u001b[39m\u001b[38;5;241m=\u001b[39m num\n\u001b[0;32m      7\u001b[0m \u001b[38;5;28mprint\u001b[39m(\u001b[38;5;124mf\u001b[39m\u001b[38;5;124m\"\u001b[39m\u001b[38;5;124mThe final running total is: \u001b[39m\u001b[38;5;132;01m{\u001b[39;00mtotal\u001b[38;5;132;01m}\u001b[39;00m\u001b[38;5;124m\"\u001b[39m)\n",
      "\u001b[1;31mValueError\u001b[0m: invalid literal for int() with base 10: 'w'"
     ]
    }
   ],
   "source": [
    "\n",
    "total = 0\n",
    "\n",
    "for i in range(5):\n",
    "    num = int(input(\"Enter a number: \"))\n",
    "    total += num\n",
    "\n",
    "print(f\"The final running total is: {total}\")\n",
    "\n"
   ]
  },
  {
   "cell_type": "markdown",
   "id": "917154cc-913b-46cd-8054-80ac5ab0ac7d",
   "metadata": {},
   "source": [
    "14. Write a program that prompts the user to enter a positive integer and calculates its \n",
    "factorial. The factorial of a positive integer 'n' is denoted as 'n!' and is calculated by \n",
    "multiplying all the integers from 1 to 'n' together. For example, the factorial of 5 \n",
    "(denoted as 5!) is calculated as 1 x 2 x 3 x 4 x 5.     \n",
    "- The program should display the factorial value if the input is a positive number, or \n",
    "display a message stating that the factorial does not exist for negative numbers. \n",
    "Additionally, for an input of zero, the program should output that the factorial of 0 is 1.  \n",
    "  "
   ]
  },
  {
   "cell_type": "code",
   "execution_count": 25,
   "id": "9640f75e-3f1d-4680-8211-169f3054cccb",
   "metadata": {},
   "outputs": [
    {
     "name": "stdin",
     "output_type": "stream",
     "text": [
      "Enter a positive integer:  2\n"
     ]
    },
    {
     "name": "stdout",
     "output_type": "stream",
     "text": [
      "The factorial of 2 is: 2\n"
     ]
    }
   ],
   "source": [
    "\n",
    "n = int(input(\"Enter a positive integer: \"))\n",
    "\n",
    "if n < 0:\n",
    "    print(\"Factorial does not exist for negative numbers.\")\n",
    "elif n == 0:\n",
    "    print(\"The factorial of 0 is 1.\")\n",
    "else:\n",
    "    factorial = 1\n",
    "    for i in range(1, n + 1):\n",
    "        factorial *= i\n",
    "    print(f\"The factorial of {n} is: {factorial}\")\n"
   ]
  },
  {
   "cell_type": "markdown",
   "id": "24d5a88a-679d-4c92-94da-ba77b724fb6d",
   "metadata": {},
   "source": [
    "15. Write a Python program that prompts the user to enter a base number and an \n",
    "exponent, and then calculates the power of the base to the exponent. The program \n",
    "should not use the exponentiation operator (**) or the math.pow() function. The \n",
    "program should handle both positive and negative exponents.   "
   ]
  }
 ],
 "metadata": {
  "kernelspec": {
   "display_name": "Python [conda env:base] *",
   "language": "python",
   "name": "conda-base-py"
  },
  "language_info": {
   "codemirror_mode": {
    "name": "ipython",
    "version": 3
   },
   "file_extension": ".py",
   "mimetype": "text/x-python",
   "name": "python",
   "nbconvert_exporter": "python",
   "pygments_lexer": "ipython3",
   "version": "3.13.5"
  },
  "widgets": {
   "application/vnd.jupyter.widget-state+json": {
    "state": {},
    "version_major": 2,
    "version_minor": 0
   }
  }
 },
 "nbformat": 4,
 "nbformat_minor": 5
}
