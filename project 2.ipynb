{
 "cells": [
  {
   "cell_type": "markdown",
   "id": "d732778a-71e2-4e02-b6ad-791825fe924e",
   "metadata": {},
   "source": [
    "1) A company decided to give bonus of 5% to employee if his/her year of service is more than 5 years. Ask user for their salary and year of service and print the net bonus amount.\n",
    "\n",
    "    "
   ]
  },
  {
   "cell_type": "code",
   "execution_count": 7,
   "id": "a5e5c1d6-7b32-4ef2-9f47-6c8894ba9b5c",
   "metadata": {},
   "outputs": [
    {
     "name": "stdin",
     "output_type": "stream",
     "text": [
      "Enter your years of service:  1\n"
     ]
    },
    {
     "name": "stdout",
     "output_type": "stream",
     "text": [
      "No Bonus\n"
     ]
    }
   ],
   "source": [
    "# years = int(input(\"Enter your years of service: \"))\n",
    "\n",
    "if years > 5:\n",
    "    bonus = salary * 5 / 100  \n",
    "    print(\"Bonus =\", bonus)\n",
    "else:\n",
    "    print(\"No Bonus\")\n"
   ]
  },
  {
   "cell_type": "markdown",
   "id": "b0476b9c-b7dd-4116-bc83-1dac09b09929",
   "metadata": {},
   "source": [
    "2) Write a program to check whether a person is eligible for voting or not. (accept age from user) if age is greater than 17 eligible otherwise not eligible\n",
    "\n"
   ]
  },
  {
   "cell_type": "code",
   "execution_count": 2,
   "id": "a3b0802c-4c11-4167-8474-53f374351643",
   "metadata": {},
   "outputs": [
    {
     "name": "stdin",
     "output_type": "stream",
     "text": [
      "Enter your age:  3\n"
     ]
    },
    {
     "name": "stdout",
     "output_type": "stream",
     "text": [
      "You are not eligible for voting.\n"
     ]
    }
   ],
   "source": [
    "age = int(input(\"Enter your age: \"))\n",
    "\n",
    "if age > 17:\n",
    "    print(\"You are eligible for voting.\")\n",
    "else:\n",
    "    print(\"You are not eligible for voting.\")\n"
   ]
  },
  {
   "cell_type": "markdown",
   "id": "bf066e17-c515-4195-96a9-0e022a324054",
   "metadata": {},
   "source": [
    "3) Write a program to check whether a number entered by user is even or odd.\n"
   ]
  },
  {
   "cell_type": "code",
   "execution_count": 6,
   "id": "7ee8d9b6-c8b0-453b-8832-4dfc0d93e155",
   "metadata": {},
   "outputs": [
    {
     "name": "stdin",
     "output_type": "stream",
     "text": [
      "Enter a number:  3\n"
     ]
    },
    {
     "name": "stdout",
     "output_type": "stream",
     "text": [
      "The number is Odd.\n"
     ]
    }
   ],
   "source": [
    "number = int(input(\"Enter a number: \"))\n",
    "\n",
    "if number % 2 == 0:\n",
    "    print(\"The number is Even.\")\n",
    "else:\n",
    "    print(\"The number is Odd.\")\n"
   ]
  },
  {
   "cell_type": "markdown",
   "id": "cb2f1273-836d-42ec-b0d1-d7024508a5af",
   "metadata": {},
   "source": [
    "4) Write a program to check whether a number is divisible by 7 or not. Show Answer\n"
   ]
  },
  {
   "cell_type": "code",
   "execution_count": 7,
   "id": "fee56674-9c12-4483-b0ed-a27e0ac2964b",
   "metadata": {},
   "outputs": [
    {
     "name": "stdin",
     "output_type": "stream",
     "text": [
      "Enter a number:  3\n"
     ]
    },
    {
     "name": "stdout",
     "output_type": "stream",
     "text": [
      "The number is not divisible by 7.\n"
     ]
    }
   ],
   "source": [
    "number = int(input(\"Enter a number: \"))\n",
    "\n",
    "if number % 7 == 0:\n",
    "    print(\"The number is divisible by 7.\")\n",
    "else:\n",
    "    print(\"The number is not divisible by 7.\")\n"
   ]
  },
  {
   "cell_type": "markdown",
   "id": "0436eed1-2803-47de-97b9-ff33e44d706f",
   "metadata": {},
   "source": [
    "5) Write a program to display \"Hello\" if a number entered by user is a multiple of five , otherwise print \"Bye\".\n"
   ]
  },
  {
   "cell_type": "code",
   "execution_count": 8,
   "id": "24cb98cb-263a-4ac0-b3ff-3dbbf424b64a",
   "metadata": {},
   "outputs": [
    {
     "name": "stdin",
     "output_type": "stream",
     "text": [
      "Enter a number:  3\n"
     ]
    },
    {
     "name": "stdout",
     "output_type": "stream",
     "text": [
      "Bye\n"
     ]
    }
   ],
   "source": [
    "number = int(input(\"Enter a number: \"))\n",
    "\n",
    "if number % 5 == 0:\n",
    "    print(\"Hello\")\n",
    "else:\n",
    "    print(\"Bye\")\n"
   ]
  },
  {
   "cell_type": "markdown",
   "id": "8c871715-d46f-4aec-8095-f0d12a9d5e4d",
   "metadata": {},
   "source": [
    "6) Write a program to display the last digit of a number.\n"
   ]
  },
  {
   "cell_type": "code",
   "execution_count": 11,
   "id": "33842eed-7e4c-42cf-87a6-7815d54e48dc",
   "metadata": {},
   "outputs": [
    {
     "name": "stdin",
     "output_type": "stream",
     "text": [
      "Enter a number:  3 \n"
     ]
    },
    {
     "name": "stdout",
     "output_type": "stream",
     "text": [
      "The last digit is: 3\n"
     ]
    }
   ],
   "source": [
    "number = int(input(\"Enter a number: \"))\n",
    "\n",
    "last_digit = number % 10\n",
    "\n",
    "print(\"The last digit is:\", last_digit)\n"
   ]
  },
  {
   "cell_type": "markdown",
   "id": "79b7f879-6372-40b5-a978-7421303ade17",
   "metadata": {},
   "source": [
    "7) Take values of length and breadth of a rectangle from user and print if it is square or rectangle.\n"
   ]
  },
  {
   "cell_type": "code",
   "execution_count": 12,
   "id": "8072d03b-41e8-4fa6-b2c3-73099654fad5",
   "metadata": {},
   "outputs": [
    {
     "name": "stdin",
     "output_type": "stream",
     "text": [
      "Enter length:  dcm\n"
     ]
    },
    {
     "ename": "ValueError",
     "evalue": "invalid literal for int() with base 10: 'dcm'",
     "output_type": "error",
     "traceback": [
      "\u001b[1;31m---------------------------------------------------------------------------\u001b[0m",
      "\u001b[1;31mValueError\u001b[0m                                Traceback (most recent call last)",
      "Cell \u001b[1;32mIn[12], line 1\u001b[0m\n\u001b[1;32m----> 1\u001b[0m length \u001b[38;5;241m=\u001b[39m \u001b[38;5;28mint\u001b[39m(\u001b[38;5;28minput\u001b[39m(\u001b[38;5;124m\"\u001b[39m\u001b[38;5;124mEnter length: \u001b[39m\u001b[38;5;124m\"\u001b[39m))\n\u001b[0;32m      2\u001b[0m breadth \u001b[38;5;241m=\u001b[39m \u001b[38;5;28mint\u001b[39m(\u001b[38;5;28minput\u001b[39m(\u001b[38;5;124m\"\u001b[39m\u001b[38;5;124mEnter breadth: \u001b[39m\u001b[38;5;124m\"\u001b[39m))\n\u001b[0;32m      4\u001b[0m \u001b[38;5;28;01mif\u001b[39;00m length \u001b[38;5;241m==\u001b[39m breadth:\n",
      "\u001b[1;31mValueError\u001b[0m: invalid literal for int() with base 10: 'dcm'"
     ]
    }
   ],
   "source": [
    "length = int(input(\"Enter length: \"))\n",
    "breadth = int(input(\"Enter breadth: \"))\n",
    "\n",
    "if length == breadth:\n",
    "    \n",
    "    print(\"It is a Square.\")\n",
    "else:\n",
    "    print(\"It is a Rectangle.\")\n"
   ]
  },
  {
   "cell_type": "markdown",
   "id": "1e82ea41-a22e-4b58-b291-eb27f2aad229",
   "metadata": {},
   "source": [
    "8) Take two int values from user and print greatest among them.\n"
   ]
  },
  {
   "cell_type": "code",
   "execution_count": 13,
   "id": "4ee3eabf-e3b3-4335-a5db-3cf1952b81e4",
   "metadata": {},
   "outputs": [
    {
     "name": "stdin",
     "output_type": "stream",
     "text": [
      "Enter first number:  22\n",
      "Enter second number:  22\n"
     ]
    },
    {
     "name": "stdout",
     "output_type": "stream",
     "text": [
      "The greatest number is: 22\n"
     ]
    }
   ],
   "source": [
    "num1 = int(input(\"Enter first number: \"))\n",
    "num2 = int(input(\"Enter second number: \"))\n",
    "\n",
    "if num1 > num2:\n",
    "    print(\"The greatest number is:\", num1)\n",
    "else:\n",
    "    print(\"The greatest number is:\", num2)\n"
   ]
  },
  {
   "cell_type": "markdown",
   "id": "d5496e24-8a5d-4435-987c-1f1b1fe02a08",
   "metadata": {},
   "source": [
    "9) A shop will give discount of 10% if the cost of purchased quantity is more than 1000. Ask user for quantity Suppose, one unit will cost 100. Judge and print total cost for user.\n"
   ]
  },
  {
   "cell_type": "code",
   "execution_count": 14,
   "id": "ba11c60d-234e-4f93-bc10-621f61ab7f76",
   "metadata": {},
   "outputs": [
    {
     "name": "stdin",
     "output_type": "stream",
     "text": [
      "Enter the quantity:  3\n"
     ]
    },
    {
     "name": "stdout",
     "output_type": "stream",
     "text": [
      "Total cost = 300\n"
     ]
    }
   ],
   "source": [
    "quantity = int(input(\"Enter the quantity: \"))\n",
    "\n",
    "cost = quantity * 100   \n",
    "\n",
    "if cost > 1000:\n",
    "    discount = cost * 10 / 100 \n",
    "    total_cost = cost - discount\n",
    "    print(\"Total cost after discount =\", total_cost)\n",
    "else:\n",
    "    print(\"Total cost =\", cost)\n"
   ]
  },
  {
   "cell_type": "markdown",
   "id": "d73489b2-ab78-4c70-9ebc-51dc509e5e92",
   "metadata": {},
   "source": [
    "10) A school has following rules for grading system:\n",
    "a. Below 25 - F\n",
    "\n",
    "b. 25 to 45 - E\n",
    "\n",
    "c. 45 to 50 - D\n",
    "\n",
    "d. 50 to 60 - C\n",
    "\n",
    "e. 60 to 80 - B\n",
    "\n",
    "f. Above 80 - A\n",
    "\n",
    "Ask user to enter marks and print the corresponding grade."
   ]
  },
  {
   "cell_type": "code",
   "execution_count": 16,
   "id": "5eb91ba9-5f46-41bb-bed8-f28e4559c7fa",
   "metadata": {},
   "outputs": [
    {
     "name": "stdin",
     "output_type": "stream",
     "text": [
      "Enter your marks:  25\n"
     ]
    },
    {
     "name": "stdout",
     "output_type": "stream",
     "text": [
      "Grade: E\n"
     ]
    }
   ],
   "source": [
    "marks = int(input(\"Enter your marks: \"))\n",
    "\n",
    "if marks < 25:\n",
    "    print(\"Grade: F\")\n",
    "elif marks >= 25 and marks < 45:\n",
    "    print(\"Grade: E\")\n",
    "elif marks >= 45 and marks < 50:\n",
    "    print(\"Grade: D\")\n",
    "elif marks >= 50 and marks < 60:\n",
    "    print(\"Grade: C\")\n",
    "elif marks >= 60 and marks <= 80:\n",
    "    print(\"Grade: B\")\n",
    "else:\n",
    "    print(\"Grade: A\")\n"
   ]
  },
  {
   "cell_type": "markdown",
   "id": "2a337eea-346a-42b6-9079-98430db2fda9",
   "metadata": {},
   "source": [
    "11) A student will not be allowed to sit in exam if his/her attendence is less than 75%.\n",
    "\n",
    "Take following input from user\n",
    "\n",
    "Number of classes held\n",
    "\n",
    "Number of classes attended.\n",
    "\n",
    "And print\n",
    "\n",
    "percentage of class attended\n",
    "\n",
    "Is student is allowed to sit in exam or not."
   ]
  },
  {
   "cell_type": "code",
   "execution_count": 17,
   "id": "94e11933-acd5-4f52-93ea-c2c34d66480a",
   "metadata": {},
   "outputs": [
    {
     "name": "stdin",
     "output_type": "stream",
     "text": [
      "Enter number of classes held:  7\n",
      "Enter number of classes attended:  44\n"
     ]
    },
    {
     "name": "stdout",
     "output_type": "stream",
     "text": [
      "Attendance percentage = 628.5714285714286 %\n",
      "Student is allowed to sit in exam.\n"
     ]
    }
   ],
   "source": [
    "classes_held = int(input(\"Enter number of classes held: \"))\n",
    "classes_attended = int(input(\"Enter number of classes attended: \"))\n",
    "\n",
    "attendance_percentage = (classes_attended / classes_held) * 100\n",
    "\n",
    "print(\"Attendance percentage =\", attendance_percentage, \"%\")\n",
    "\n",
    "if attendance_percentage >= 75:\n",
    "    print(\"Student is allowed to sit in exam.\")\n",
    "else:\n",
    "    print(\"Student is NOT allowed to sit in exam.\")\n"
   ]
  },
  {
   "cell_type": "markdown",
   "id": "fb75d5ef-6cf2-4f3b-9156-52fa524518c9",
   "metadata": {},
   "source": [
    "12) Modify the above question to allow student to sit if he/she has medical cause. Ask user if he/she has medical cause or not ( 'Y' or 'N' ) and print accordingly."
   ]
  },
  {
   "cell_type": "code",
   "execution_count": 18,
   "id": "d7073cf4-f130-4d8a-b51f-738045266d2d",
   "metadata": {},
   "outputs": [
    {
     "name": "stdin",
     "output_type": "stream",
     "text": [
      "Enter number of classes held:  3\n",
      "Enter number of classes attended:  22\n"
     ]
    },
    {
     "name": "stdout",
     "output_type": "stream",
     "text": [
      "Attendance percentage = 733.3333333333333 %\n",
      "Student is allowed to sit in exam.\n"
     ]
    }
   ],
   "source": [
    "classes_held = int(input(\"Enter number of classes held: \"))\n",
    "classes_attended = int(input(\"Enter number of classes attended: \"))\n",
    "\n",
    "attendance_percentage = (classes_attended / classes_held) * 100\n",
    "\n",
    "print(\"Attendance percentage =\", attendance_percentage, \"%\")\n",
    "\n",
    "if attendance_percentage >= 75:\n",
    "    print(\"Student is allowed to sit in exam.\")\n",
    "else:\n",
    "    medical = input(\"Do you have a medical cause? (Y/N): \")\n",
    "\n",
    "    if medical == 'Y' or medical == 'y':\n",
    "        print(\"Student is allowed to sit in exam (Medical reason).\")\n",
    "    else:\n",
    "        print(\"Student is NOT allowed to sit in exam.\")\n"
   ]
  },
  {
   "cell_type": "markdown",
   "id": "7b007d40-0909-4298-b0a9-a7eb6bb6c665",
   "metadata": {},
   "source": [
    "13) Write a program to check if a year is leap year or not.\n",
    "If a year is divisible by 4 then it is leap year but if the year is century year like 2000, 1900, 2100 then it must be divisible by 400."
   ]
  },
  {
   "cell_type": "code",
   "execution_count": 1,
   "id": "2e78c5f5-052e-4119-b878-6196236d582d",
   "metadata": {},
   "outputs": [
    {
     "name": "stdin",
     "output_type": "stream",
     "text": [
      "Enter a year:  2\n"
     ]
    },
    {
     "name": "stdout",
     "output_type": "stream",
     "text": [
      "2 is NOT a Leap Year\n"
     ]
    }
   ],
   "source": [
    " year = int(input(\"Enter a year: \"))\n",
    "\n",
    "if (year % 400 == 0) or (year % 4 == 0 and year % 100 != 0):\n",
    "    print(year, \"is a Leap Year\")\n",
    "else:\n",
    "    print(year, \"is NOT a Leap Year\")\n"
   ]
  },
  {
   "cell_type": "markdown",
   "id": "0dcd3ead-b8f3-427b-a9fa-ad63d1266e1e",
   "metadata": {},
   "source": [
    "14) Ask user to enter age, gender ( M or F ), marital status ( Y or N ) and then using following rules print their place of service.\n",
    "- if employee is female, then she will work only in urban areas.\n",
    "\n",
    "- if employee is a male and age is in between 20 to 40 then he may work in anywhere\n",
    "\n",
    "- if employee is male and age is in between 40 t0 60 then he will work in urban areas only.\n",
    "\n",
    "- And any other input of age should print \"ERROR\""
   ]
  },
  {
   "cell_type": "code",
   "execution_count": 3,
   "id": "49113e1c-b342-4cea-9420-efbde01b68b7",
   "metadata": {},
   "outputs": [
    {
     "name": "stdin",
     "output_type": "stream",
     "text": [
      "Enter your age:  2\n",
      "Enter your gender (M/F):  4\n",
      "Are you married? (Y/N):  5\n"
     ]
    },
    {
     "name": "stdout",
     "output_type": "stream",
     "text": [
      "ERROR\n"
     ]
    }
   ],
   "source": [
    "\n",
    "age = int(input(\"Enter your age: \"))\n",
    "gender = input(\"Enter your gender (M/F): \").upper()\n",
    "marital_status = input(\"Are you married? (Y/N): \").upper()  \n",
    "\n",
    "if gender == 'F':\n",
    "    print(\"You will work in urban areas only.\")\n",
    "elif gender == 'M':\n",
    "    if 20 <= age <= 40:\n",
    "        print(\"You may work anywhere.\")\n",
    "    elif 40 < age <= 60:\n",
    "        print(\"You will work in urban areas only.\")\n",
    "    else:\n",
    "        print(\"ERROR\")\n",
    "else:\n",
    "    print(\"ERROR\")\n"
   ]
  },
  {
   "cell_type": "markdown",
   "id": "a1b231b8-7ec9-4a44-bb5a-be9e12cee55c",
   "metadata": {},
   "source": [
    "15) Write a program to calculate the electricity bill (accept number of unit from user) according to the following criteria : Unit Price\n",
    "uptp 100 units no charge Next 200 units Rs 5 per unit After 200 units Rs 10 per unit (For example if input unit is 350 than total bill amount is Rs.3500 (For example if input unit is 97 than total bill amount is Rs.0 (For example if input unit is 150 than total bill amount is Rs.750"
   ]
  },
  {
   "cell_type": "code",
   "execution_count": 4,
   "id": "0b0e6962-1277-4dff-a102-b4ccae0b1785",
   "metadata": {},
   "outputs": [
    {
     "name": "stdin",
     "output_type": "stream",
     "text": [
      "Enter number of units consumed:  2\n"
     ]
    },
    {
     "name": "stdout",
     "output_type": "stream",
     "text": [
      "Total bill amount is Rs. 0\n"
     ]
    }
   ],
   "source": [
    "units = int(input(\"Enter number of units consumed: \"))\n",
    "\n",
    "bill = 0\n",
    "\n",
    "if units <= 100:\n",
    "    bill = 0\n",
    "elif units <= 300: \n",
    "    bill = (units - 100) * 5\n",
    "else: \n",
    "    bill = 200 * 5 + (units - 300) * 10\n",
    "print(\"Total bill amount is Rs.\", bill)\n"
   ]
  },
  {
   "cell_type": "markdown",
   "id": "d9074272-63c1-410f-8876-c206cbdf8fca",
   "metadata": {},
   "source": [
    "16) Take input of age of 3 people by user and determine oldest and youngest among them.\n"
   ]
  },
  {
   "cell_type": "code",
   "execution_count": 5,
   "id": "2fc261ee-27f1-4acb-887b-57a4bb56d05e",
   "metadata": {},
   "outputs": [
    {
     "name": "stdin",
     "output_type": "stream",
     "text": [
      "Enter age of first person:  2\n",
      "Enter age of second person:  3\n",
      "Enter age of third person:  4\n"
     ]
    },
    {
     "name": "stdout",
     "output_type": "stream",
     "text": [
      "Oldest age is: 4\n",
      "Youngest age is: 2\n"
     ]
    }
   ],
   "source": [
    "age1 = int(input(\"Enter age of first person: \"))\n",
    "age2 = int(input(\"Enter age of second person: \"))\n",
    "age3 = int(input(\"Enter age of third person: \"))\n",
    "\n",
    "if age1 >= age2 and age1 >= age3:\n",
    "    oldest = age1\n",
    "elif age2 >= age1 and age2 >= age3:\n",
    "    oldest = age2\n",
    "else:\n",
    "    oldest = age3\n",
    "\n",
    "if age1 <= age2 and age1 <= age3:\n",
    "    youngest = age1\n",
    "elif age2 <= age1 and age2 <= age3:\n",
    "    youngest = age2\n",
    "else:\n",
    "    youngest = age3\n",
    "\n",
    "print(\"Oldest age is:\", oldest)\n",
    "print(\"Youngest age is:\", youngest)\n"
   ]
  },
  {
   "cell_type": "code",
   "execution_count": null,
   "id": "799b8285-75e3-4f41-b875-b87f49bdde09",
   "metadata": {},
   "outputs": [],
   "source": []
  }
 ],
 "metadata": {
  "kernelspec": {
   "display_name": "Python 3 (ipykernel)",
   "language": "python",
   "name": "python3"
  },
  "language_info": {
   "codemirror_mode": {
    "name": "ipython",
    "version": 3
   },
   "file_extension": ".py",
   "mimetype": "text/x-python",
   "name": "python",
   "nbconvert_exporter": "python",
   "pygments_lexer": "ipython3",
   "version": "3.13.5"
  }
 },
 "nbformat": 4,
 "nbformat_minor": 5
}
