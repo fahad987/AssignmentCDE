{
 "cells": [
  {
   "cell_type": "markdown",
   "id": "07322c67-0efa-43db-b249-c5b9b6c7f095",
   "metadata": {},
   "source": [
    "1. Write a Python program to create a class representing a Circle. Include methods to calculate its area and perimeter."
   ]
  },
  {
   "cell_type": "code",
   "execution_count": 8,
   "id": "d9656004-387d-4753-86a1-aa5f1f301b40",
   "metadata": {},
   "outputs": [],
   "source": [
    "class Circle:\n",
    "    def __init__(self, radius):\n",
    "        self.radius = radius   \n",
    "    def area(self):\n",
    "        return 3.14 * self.radius * self.radius\n",
    "\n",
    "    def perimeter(self):\n",
    "        return 2 * 3.14 * self.radius"
   ]
  },
  {
   "cell_type": "code",
   "execution_count": 10,
   "id": "7b627b8f-72b9-48a6-9285-446518f97490",
   "metadata": {},
   "outputs": [
    {
     "name": "stdin",
     "output_type": "stream",
     "text": [
      "Enter radius of circle:  3\n"
     ]
    },
    {
     "name": "stdout",
     "output_type": "stream",
     "text": [
      "Area of Circle = 28.259999999999998\n",
      "Perimeter of Circle = 18.84\n"
     ]
    }
   ],
   "source": [
    "r = float(input(\"Enter radius of circle: \"))\n",
    "\n",
    "c = Circle(r)\n",
    "\n",
    "print(\"Area of Circle =\", c.area())\n",
    "print(\"Perimeter of Circle =\", c.perimeter())"
   ]
  },
  {
   "cell_type": "markdown",
   "id": "84f3b816-cf12-46dd-acdf-af36be0cb929",
   "metadata": {},
   "source": [
    "2. Write a Python program to create a person class. Include attributes like name, country and date of birth. Implement a method to determine the person's age.\n"
   ]
  },
  {
   "cell_type": "code",
   "execution_count": 6,
   "id": "be5077e3-5b90-48a8-8f38-d970d88bd8a2",
   "metadata": {},
   "outputs": [],
   "source": [
    "\n",
    "class Person:\n",
    "    def __init__(self, name, country, birth_year):\n",
    "        self.name = name\n",
    "        self.country = country\n",
    "        self.birth_year = birth_year\n",
    "\n",
    "    def age(self, current_year):\n",
    "        return current_year - self.birth_year\n",
    "\n",
    "\n"
   ]
  },
  {
   "cell_type": "code",
   "execution_count": 7,
   "id": "37e10060-db29-47b2-8de0-4af55592adf6",
   "metadata": {},
   "outputs": [
    {
     "name": "stdin",
     "output_type": "stream",
     "text": [
      "Enter name:  l\n",
      "Enter country:  ldd\n",
      "Enter birth year:  df\n"
     ]
    },
    {
     "ename": "ValueError",
     "evalue": "invalid literal for int() with base 10: 'df'",
     "output_type": "error",
     "traceback": [
      "\u001b[1;31m---------------------------------------------------------------------------\u001b[0m",
      "\u001b[1;31mValueError\u001b[0m                                Traceback (most recent call last)",
      "Cell \u001b[1;32mIn[7], line 3\u001b[0m\n\u001b[0;32m      1\u001b[0m name \u001b[38;5;241m=\u001b[39m \u001b[38;5;28minput\u001b[39m(\u001b[38;5;124m\"\u001b[39m\u001b[38;5;124mEnter name: \u001b[39m\u001b[38;5;124m\"\u001b[39m)\n\u001b[0;32m      2\u001b[0m country \u001b[38;5;241m=\u001b[39m \u001b[38;5;28minput\u001b[39m(\u001b[38;5;124m\"\u001b[39m\u001b[38;5;124mEnter country: \u001b[39m\u001b[38;5;124m\"\u001b[39m)\n\u001b[1;32m----> 3\u001b[0m birth_year \u001b[38;5;241m=\u001b[39m \u001b[38;5;28mint\u001b[39m(\u001b[38;5;28minput\u001b[39m(\u001b[38;5;124m\"\u001b[39m\u001b[38;5;124mEnter birth year: \u001b[39m\u001b[38;5;124m\"\u001b[39m))\n\u001b[0;32m      5\u001b[0m current_year \u001b[38;5;241m=\u001b[39m \u001b[38;5;241m2025\u001b[39m\n\u001b[0;32m      7\u001b[0m p \u001b[38;5;241m=\u001b[39m Person(name, country, birth_year)\n",
      "\u001b[1;31mValueError\u001b[0m: invalid literal for int() with base 10: 'df'"
     ]
    }
   ],
   "source": [
    "\n",
    "name = input(\"Enter name: \")\n",
    "country = input(\"Enter country: \")\n",
    "birth_year = int(input(\"Enter birth year: \"))\n",
    "\n",
    "current_year = 2025\n",
    "\n",
    "p = Person(name, country, birth_year)\n",
    "\n",
    "print(\"\\nName:\", p.name)\n",
    "print(\"Country:\", p.country)\n",
    "print(\"Birth Year:\", p.birth_year)\n",
    "print(\"Age:\", p.age(current_year))"
   ]
  },
  {
   "cell_type": "markdown",
   "id": "2869c4a0-a94f-42ff-ac2c-554f4412eb09",
   "metadata": {},
   "source": [
    "3. Write a Python program to create a calculator class. Include methods for basic arithmetic operations."
   ]
  },
  {
   "cell_type": "code",
   "execution_count": 11,
   "id": "93af6de6-5cfc-4bbc-92cf-6d1e7d534fa1",
   "metadata": {},
   "outputs": [],
   "source": [
    "class Calculator:\n",
    "    def add(self, a, b):\n",
    "        return a + b\n",
    "\n",
    "    def subtract(self, a, b):\n",
    "        return a - b\n",
    "\n",
    "    def multiply(self, a, b):\n",
    "        return a * b\n",
    "\n",
    "    def divide(self, a, b):\n",
    "        if b == 0:\n",
    "            return \"Cannot divide by zero!\"\n",
    "        else:\n",
    "            return a / b\n",
    "\n",
    "\n",
    "\n"
   ]
  },
  {
   "cell_type": "code",
   "execution_count": 12,
   "id": "037c6331-fed3-4aac-a262-38a4069376fe",
   "metadata": {},
   "outputs": [
    {
     "name": "stdin",
     "output_type": "stream",
     "text": [
      "Enter first number:  k\n"
     ]
    },
    {
     "ename": "ValueError",
     "evalue": "invalid literal for int() with base 10: 'k'",
     "output_type": "error",
     "traceback": [
      "\u001b[1;31m---------------------------------------------------------------------------\u001b[0m",
      "\u001b[1;31mValueError\u001b[0m                                Traceback (most recent call last)",
      "Cell \u001b[1;32mIn[12], line 3\u001b[0m\n\u001b[0;32m      1\u001b[0m c \u001b[38;5;241m=\u001b[39m Calculator()\n\u001b[1;32m----> 3\u001b[0m x \u001b[38;5;241m=\u001b[39m \u001b[38;5;28mint\u001b[39m(\u001b[38;5;28minput\u001b[39m(\u001b[38;5;124m\"\u001b[39m\u001b[38;5;124mEnter first number: \u001b[39m\u001b[38;5;124m\"\u001b[39m))\n\u001b[0;32m      4\u001b[0m y \u001b[38;5;241m=\u001b[39m \u001b[38;5;28mint\u001b[39m(\u001b[38;5;28minput\u001b[39m(\u001b[38;5;124m\"\u001b[39m\u001b[38;5;124mEnter second number: \u001b[39m\u001b[38;5;124m\"\u001b[39m))\n\u001b[0;32m      6\u001b[0m \u001b[38;5;28mprint\u001b[39m(\u001b[38;5;124m\"\u001b[39m\u001b[38;5;124mAddition:\u001b[39m\u001b[38;5;124m\"\u001b[39m, c\u001b[38;5;241m.\u001b[39madd(x, y))\n",
      "\u001b[1;31mValueError\u001b[0m: invalid literal for int() with base 10: 'k'"
     ]
    }
   ],
   "source": [
    "c = Calculator()\n",
    "\n",
    "x = int(input(\"Enter first number: \"))\n",
    "y = int(input(\"Enter second number: \"))\n",
    "\n",
    "print(\"Addition:\", c.add(x, y))\n",
    "print(\"Subtraction:\", c.subtract(x, y))\n",
    "print(\"Multiplication:\", c.multiply(x, y))\n",
    "print(\"Division:\", c.divide(x, y))"
   ]
  },
  {
   "cell_type": "code",
   "execution_count": null,
   "id": "a1f0cb94-d5e3-480c-9088-f6ba7ff2602d",
   "metadata": {},
   "outputs": [],
   "source": []
  },
  {
   "cell_type": "code",
   "execution_count": null,
   "id": "4438ca8c-b41d-444c-9420-4d150693b7f7",
   "metadata": {},
   "outputs": [],
   "source": []
  },
  {
   "cell_type": "code",
   "execution_count": null,
   "id": "79b9eec6-fb6e-4bf6-a49f-497e493bb1b7",
   "metadata": {},
   "outputs": [],
   "source": []
  },
  {
   "cell_type": "code",
   "execution_count": null,
   "id": "d5562dbe-35d0-49cd-a212-a959ce9971cc",
   "metadata": {},
   "outputs": [],
   "source": []
  },
  {
   "cell_type": "code",
   "execution_count": null,
   "id": "b00c5025-2f62-4bb1-a174-0a49afe5bb0d",
   "metadata": {},
   "outputs": [],
   "source": []
  }
 ],
 "metadata": {
  "kernelspec": {
   "display_name": "Python [conda env:base] *",
   "language": "python",
   "name": "conda-base-py"
  },
  "language_info": {
   "codemirror_mode": {
    "name": "ipython",
    "version": 3
   },
   "file_extension": ".py",
   "mimetype": "text/x-python",
   "name": "python",
   "nbconvert_exporter": "python",
   "pygments_lexer": "ipython3",
   "version": "3.13.5"
  },
  "widgets": {
   "application/vnd.jupyter.widget-state+json": {
    "state": {},
    "version_major": 2,
    "version_minor": 0
   }
  }
 },
 "nbformat": 4,
 "nbformat_minor": 5
}
