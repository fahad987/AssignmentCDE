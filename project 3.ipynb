{
 "cells": [
  {
   "cell_type": "markdown",
   "id": "58c36445-63b4-48c4-869e-962917b0b4f8",
   "metadata": {},
   "source": [
    "1. Write a program that accepts a string from user. Your program should count and display number of \n",
    "vowels in that string.  "
   ]
  },
  {
   "cell_type": "code",
   "execution_count": 1,
   "id": "e34a8ded-a6b9-47eb-8946-78fa7d8bb0da",
   "metadata": {},
   "outputs": [
    {
     "name": "stdin",
     "output_type": "stream",
     "text": [
      "Enter a word or sentence:  hello\n"
     ]
    },
    {
     "name": "stdout",
     "output_type": "stream",
     "text": [
      "Number of vowels: 2\n"
     ]
    }
   ],
   "source": [
    "text = input(\"Enter a word or sentence: \")\n",
    "\n",
    "\n",
    "vowels = \"aeiouAEIOU\"\n",
    "\n",
    "count = 0\n",
    "\n",
    "for ch in text:\n",
    "    if ch in vowels:\n",
    "        count = count + 1\n",
    "\n",
    "print(\"Number of vowels:\", count)\n"
   ]
  },
  {
   "cell_type": "markdown",
   "id": "adca1a0d-fcbe-43a5-aa9c-6037bac43f97",
   "metadata": {},
   "source": [
    "2. Write a program that reads a string from keyboard and display: \n",
    "* The number of uppercase letters in the string \n",
    "* The number of lowercase letters in the string \n",
    "* The number of digits in the string \n",
    "* The number of whitespace characters in the string "
   ]
  },
  {
   "cell_type": "code",
   "execution_count": 2,
   "id": "782d4acf-e8fb-42d3-bae3-1e00e8ad7c36",
   "metadata": {},
   "outputs": [
    {
     "name": "stdin",
     "output_type": "stream",
     "text": [
      "Enter any string:  1\n"
     ]
    },
    {
     "name": "stdout",
     "output_type": "stream",
     "text": [
      "Uppercase letters: 0\n",
      "Lowercase letters: 0\n",
      "Digits: 1\n",
      "Whitespaces: 0\n"
     ]
    }
   ],
   "source": [
    "\n",
    "text = input(\"Enter any string: \")\n",
    "\n",
    "upper = 0\n",
    "lower = 0\n",
    "digit = 0\n",
    "space = 0\n",
    "\n",
    "for ch in text:\n",
    "    if ch.isupper():     \n",
    "        upper += 1\n",
    "    elif ch.islower():   \n",
    "        lower += 1\n",
    "    elif ch.isdigit():    # check digit\n",
    "        digit += 1\n",
    "    elif ch.isspace():    # check space\n",
    "        space += 1\n",
    "\n",
    "print(\"Uppercase letters:\", upper)\n",
    "print(\"Lowercase letters:\", lower)\n",
    "print(\"Digits:\", digit)\n",
    "print(\"Whitespaces:\", space)\n"
   ]
  },
  {
   "cell_type": "markdown",
   "id": "d77ba631-4b29-4e52-8592-d62fe3e90db7",
   "metadata": {},
   "source": [
    "3. Write a Python program that accepts a string from user. Your program should create and display a \n",
    "new string where the first and last characters have been exchanged. \n",
    "For example if the user enters the string 'HELLO' then new string would be 'OELLH'  "
   ]
  },
  {
   "cell_type": "code",
   "execution_count": 5,
   "id": "c7df24bd-1d0b-49c3-99b2-97a40d218b09",
   "metadata": {},
   "outputs": [
    {
     "name": "stdin",
     "output_type": "stream",
     "text": [
      "Enter a string:  helli\n"
     ]
    },
    {
     "name": "stdout",
     "output_type": "stream",
     "text": [
      "New string: iellh\n"
     ]
    }
   ],
   "source": [
    "\n",
    "text = input(\"Enter a string: \")\n",
    "\n",
    "if len(text) < 2:\n",
    "    new_text = text\n",
    "else:hell\n",
    "    new_text = text[-1] + text[1:-1] + text[0]\n",
    "\n",
    "print(\"New string:\", new_text)\n",
    "\n"
   ]
  },
  {
   "cell_type": "markdown",
   "id": "93150c92-a036-4a49-8c5d-dde734f0556a",
   "metadata": {},
   "source": [
    "4. Write a Python program that accepts a string from user. Your program should create a new string in \n",
    "reverse of first string and display it. \n",
    "For example if the user enters the string 'EXAM' then new string would be 'MAXE'  "
   ]
  },
  {
   "cell_type": "code",
   "execution_count": 2,
   "id": "25c7019c-2491-4c90-be91-c360ce68c6a7",
   "metadata": {},
   "outputs": [
    {
     "name": "stdin",
     "output_type": "stream",
     "text": [
      "Enter a word:  xz\n"
     ]
    },
    {
     "name": "stdout",
     "output_type": "stream",
     "text": [
      "New word is: zx\n"
     ]
    }
   ],
   "source": [
    "# Take input from use\n",
    "word = input(\"Enter a word: \")\n",
    "\n",
    "# Reverse the word\n",
    "new_word = word[::-1]\n",
    "\n",
    "# Show the result\n",
    "print(\"New word is:\", new_word)\n",
    "\n"
   ]
  },
  {
   "cell_type": "markdown",
   "id": "81bdaf88-43fd-4348-8543-f00f20658a89",
   "metadata": {},
   "source": [
    "5. Write a Python program that accepts a string from user. Your program should create a new string by \n",
    "shifting one position to left. \n",
    "For example if the user enters the string 'examination 2021' then new string would be 'xamination \n",
    "2021e' "
   ]
  },
  {
   "cell_type": "code",
   "execution_count": 3,
   "id": "c7e59a52-cb3c-468e-981d-11be00b353d0",
   "metadata": {},
   "outputs": [
    {
     "name": "stdin",
     "output_type": "stream",
     "text": [
      "Enter a string:  s\n"
     ]
    },
    {
     "ename": "NameError",
     "evalue": "name 't' is not defined",
     "output_type": "error",
     "traceback": [
      "\u001b[1;31m---------------------------------------------------------------------------\u001b[0m",
      "\u001b[1;31mNameError\u001b[0m                                 Traceback (most recent call last)",
      "Cell \u001b[1;32mIn[3], line 2\u001b[0m\n\u001b[0;32m      1\u001b[0m text \u001b[38;5;241m=\u001b[39m \u001b[38;5;28minput\u001b[39m(\u001b[38;5;124m\"\u001b[39m\u001b[38;5;124mEnter a string: \u001b[39m\u001b[38;5;124m\"\u001b[39m)\n\u001b[1;32m----> 2\u001b[0m t\n\u001b[0;32m      3\u001b[0m \u001b[38;5;28;01mif\u001b[39;00m \u001b[38;5;28mlen\u001b[39m(text) \u001b[38;5;241m>\u001b[39m \u001b[38;5;241m1\u001b[39m:\n\u001b[0;32m      4\u001b[0m     new_text \u001b[38;5;241m=\u001b[39m text[\u001b[38;5;241m1\u001b[39m:] \u001b[38;5;241m+\u001b[39m text[\u001b[38;5;241m0\u001b[39m]\n",
      "\u001b[1;31mNameError\u001b[0m: name 't' is not defined"
     ]
    }
   ],
   "source": [
    "\n",
    "text = input(\"Enter a string: \")\n",
    "t\n",
    "if len(text) > 1:\n",
    "    new_text = text[1:] + text[0]\n",
    "else:\n",
    "    new_text = text \n",
    "\n",
    "print(\"New string is:\", new_text)\n"
   ]
  },
  {
   "cell_type": "markdown",
   "id": "7e80cf38-60b6-4571-9dac-17e237ddc165",
   "metadata": {},
   "source": [
    "6. Write a program that asks the user to input his name and print its initials. Assuming that the user \n",
    "always types first name, middle name and last name and does not include any unnecessary spaces. \n",
    "For example, if the user enters Ajay Kumar Garg the program should display A. K. G. \n",
    "Note:Don't use split() method"
   ]
  },
  {
   "cell_type": "code",
   "execution_count": 4,
   "id": "9b934bb8-3589-4333-9b2e-42d4ef19788a",
   "metadata": {},
   "outputs": [
    {
     "name": "stdin",
     "output_type": "stream",
     "text": [
      "Enter your full name (First Middle Last):  s\n"
     ]
    },
    {
     "name": "stdout",
     "output_type": "stream",
     "text": [
      "Initials: S. \n"
     ]
    }
   ],
   "source": [
    "\n",
    "name = input(\"Enter your full name (First Middle Last): \")\n",
    "\n",
    "initials = name[0].upper() + \". \"\n",
    "\n",
    "for i in range(len(name)):\n",
    "    if name[i] == \" \":   \n",
    "        initials += name[i+1].upper() + \". \" \n",
    "\n",
    "print(\"Initials:\", initials)\n"
   ]
  },
  {
   "cell_type": "markdown",
   "id": "fd9b4686-5495-4551-a211-c5d4f338a882",
   "metadata": {},
   "source": [
    "7. A palindrome is a string that reads the same backward as forward. For example, the words dad, \n",
    "madam and radar are all palindromes. Write a programs that determines whether the string is a \n",
    "palindrome. \n",
    "Note: do not use reverse() method   "
   ]
  },
  {
   "cell_type": "code",
   "execution_count": 5,
   "id": "1d498123-8a21-4818-9e49-c8d34d3d32de",
   "metadata": {},
   "outputs": [
    {
     "name": "stdin",
     "output_type": "stream",
     "text": [
      "Enter a word:  l\n"
     ]
    },
    {
     "name": "stdout",
     "output_type": "stream",
     "text": [
      "l is a palindrome.\n"
     ]
    }
   ],
   "source": [
    "word = input(\"Enter a word: \")\n",
    "\n",
    "is_palindrome = True\n",
    "\n",
    "for i in range(len(word) // 2):\n",
    "    if word[i] != word[-(i+1)]:\n",
    "        is_palindrome = False\n",
    "        break\n",
    "\n",
    "if is_palindrome:\n",
    "    print(word, \"is a palindrome.\")\n",
    "else:\n",
    "    print(word, \"is NOT a palindrome.\")\n"
   ]
  },
  {
   "cell_type": "markdown",
   "id": "ab771894-1952-44f2-9bda-c68d0500055e",
   "metadata": {},
   "source": [
    "8. Write a program that display following output     \n",
    "SHIFT  \n",
    "HIFTS  \n",
    "IFTSH  \n",
    "FTSHI   \n",
    "TSHIF  \n",
    "SHIFT  "
   ]
  },
  {
   "cell_type": "code",
   "execution_count": 7,
   "id": "892b98eb-ebf7-4f8a-bdc5-cd8370bbfce7",
   "metadata": {},
   "outputs": [
    {
     "name": "stdout",
     "output_type": "stream",
     "text": [
      "SHIFT\n",
      "HIFTS\n",
      "IFTSH\n",
      "FTSHI\n",
      "TSHIF\n"
     ]
    }
   ],
   "source": [
    "word = \"SHIFT\"\n",
    "\n",
    "for i in range(len(word)):\n",
    "    rotated = word[i:] + word[:i]\n",
    "    print(rotated)\n"
   ]
  },
  {
   "cell_type": "markdown",
   "id": "16c7e938-6d93-4f3a-98b9-1007bfab6cdd",
   "metadata": {},
   "source": [
    "9. Write a program in python that accepts a string to setup a passwords. Your entered password must             \n",
    "-1 The password must be at least eight characters long.   \n",
    "-2 It must contain at least one uppercase letter.   \n",
    "-3 It must contain at least one lowercase letter.   \n",
    "-4 It must contain at least one numeric digit.    \n",
    "-5 Your program should should perform this validation"
   ]
  },
  {
   "cell_type": "code",
   "execution_count": 9,
   "id": "c45f9b22-4425-4be1-807a-fbf0095cbe20",
   "metadata": {},
   "outputs": [
    {
     "name": "stdin",
     "output_type": "stream",
     "text": [
      "Enter your password:  x\n"
     ]
    },
    {
     "name": "stdout",
     "output_type": "stream",
     "text": [
      "Password is NOT good ❌\n",
      "It must be at least 6 letters and have 1 number.\n"
     ]
    }
   ],
   "source": [
    "password = input(\"Enter your password: \")\n",
    "\n",
    "if len(password) >= 6 and any(ch.isdigit() for ch in password):\n",
    "    print(\"Password is accepted ✅\")\n",
    "else:\n",
    "    print(\"Password is NOT good ❌\")\n",
    "    print(\"It must be at least 6 letters and have 1 number.\")\n"
   ]
  }
 ],
 "metadata": {
  "kernelspec": {
   "display_name": "Python [conda env:base] *",
   "language": "python",
   "name": "conda-base-py"
  },
  "language_info": {
   "codemirror_mode": {
    "name": "ipython",
    "version": 3
   },
   "file_extension": ".py",
   "mimetype": "text/x-python",
   "name": "python",
   "nbconvert_exporter": "python",
   "pygments_lexer": "ipython3",
   "version": "3.13.5"
  },
  "widgets": {
   "application/vnd.jupyter.widget-state+json": {
    "state": {},
    "version_major": 2,
    "version_minor": 0
   }
  }
 },
 "nbformat": 4,
 "nbformat_minor": 5
}
