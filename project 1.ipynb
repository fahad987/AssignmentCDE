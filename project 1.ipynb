{
 "cells": [
  {
   "cell_type": "markdown",
   "id": "c4ac0283-6756-47cb-a46e-36f9184c2257",
   "metadata": {},
   "source": [
    "# Part -1 Python Basics (Variables)"
   ]
  },
  {
   "cell_type": "markdown",
   "id": "1a9f42fb-2f45-4815-b0fe-6ba3d43557d9",
   "metadata": {},
   "source": [
    "Print Your Name with your Father name and Date of birth using suitable escape sequence charactor\n"
   ]
  },
  {
   "cell_type": "code",
   "execution_count": 7,
   "id": "ff46368c-d98e-4b96-aed3-c38d2d057d88",
   "metadata": {},
   "outputs": [
    {
     "name": "stdout",
     "output_type": "stream",
     "text": [
      "My name is:  1\\\n",
      "My father name is:  1\n",
      "My date of birth is:  2\n"
     ]
    },
    {
     "name": "stdout",
     "output_type": "stream",
     "text": [
      "1\\,1,2\n"
     ]
    }
   ],
   "source": [
    "name = input(\"My name is: \")\n",
    "f_name = input(\"My father name is: \")\n",
    "birth_date = input(\"My date of birth is: \")\n",
    "print(name +\",\" + f_name +\",\" + birth_date)\n"
   ]
  },
  {
   "cell_type": "code",
   "execution_count": 1,
   "id": "05dc1de9-acfe-4d9a-a450-16e16d68bb83",
   "metadata": {},
   "outputs": [],
   "source": [
    "My_Data = [\"Fahad\", \"Rehman\", \"20\", \"9-july-1995\"]"
   ]
  },
  {
   "cell_type": "code",
   "execution_count": 2,
   "id": "ea1ff102-f2c0-40d1-b97f-08b00dd74ef6",
   "metadata": {},
   "outputs": [
    {
     "data": {
      "text/plain": [
       "['Fahad', 'Rehman', '20', '9-july-1995']"
      ]
     },
     "execution_count": 2,
     "metadata": {},
     "output_type": "execute_result"
    }
   ],
   "source": [
    "My_Data"
   ]
  },
  {
   "cell_type": "markdown",
   "id": "8109a6b9-193e-4e3c-a92e-5b637b5533d0",
   "metadata": {},
   "source": [
    "Write your small bio using variables and print it using print function\n"
   ]
  },
  {
   "cell_type": "code",
   "execution_count": 3,
   "id": "4a1038a5-7530-463a-8a57-672631aa544d",
   "metadata": {},
   "outputs": [
    {
     "name": "stdout",
     "output_type": "stream",
     "text": [
      "My Name is: Fahad\n",
      "My Father Name is: Rehman\n",
      "My Date of Birth is: 15-08-1995\n"
     ]
    }
   ],
   "source": [
    "\n",
    "name = \"Fahad\"\n",
    "father_name = \"Rehman\"\n",
    "dob = \"15-08-1995\"\n",
    "\n",
    "\n",
    "print(\"My Name is:\", name)\n",
    "print(\"My Father Name is:\", father_name)\n",
    "print(\"My Date of Birth is:\", dob)\n",
    "\n"
   ]
  },
  {
   "cell_type": "code",
   "execution_count": 4,
   "id": "4828ac10-d3a5-4a64-9b56-0124615bf4f0",
   "metadata": {},
   "outputs": [
    {
     "name": "stdout",
     "output_type": "stream",
     "text": [
      "Arithmetic Operators:\n",
      "a + b = 13\n",
      "a - b = 7\n",
      "a * b = 30\n"
     ]
    }
   ],
   "source": [
    "\n",
    "\n",
    "a = 10\n",
    "b = 3\n",
    "\n",
    "print(\"Arithmetic Operators:\")\n",
    "print(\"a + b =\", a + b)\n",
    "print(\"a - b =\", a - b)\n",
    "print(\"a * b =\", a * b)\n"
   ]
  },
  {
   "cell_type": "code",
   "execution_count": 5,
   "id": "5c231711-7ab1-4025-8e5f-876dd78bdf21",
   "metadata": {},
   "outputs": [
    {
     "name": "stdout",
     "output_type": "stream",
     "text": [
      "\n",
      "Comparison Operators:\n",
      "a == b: False\n",
      "a > b: True\n",
      "a < b: False\n"
     ]
    }
   ],
   "source": [
    "print(\"\\nComparison Operators:\")\n",
    "print(\"a == b:\", a == b)  \n",
    "print(\"a > b:\", a > b)     \n",
    "print(\"a < b:\", a < b)    \n"
   ]
  },
  {
   "cell_type": "code",
   "execution_count": 6,
   "id": "20264849-da9a-4c2d-bed4-0fa7def7c27c",
   "metadata": {},
   "outputs": [
    {
     "name": "stdout",
     "output_type": "stream",
     "text": [
      "\n",
      "Logical Operators:\n",
      "a > 5 and b < 5: True\n",
      "a > 5 or b > 5: True\n"
     ]
    }
   ],
   "source": [
    "print(\"\\nLogical Operators:\")\n",
    "print(\"a > 5 and b < 5:\", a > 5 and b < 5)\n",
    "print(\"a > 5 or b > 5:\", a > 5 or b > 5)\n"
   ]
  },
  {
   "cell_type": "code",
   "execution_count": 7,
   "id": "84ffd5e6-4a67-4c22-b7af-0f5b994d8187",
   "metadata": {},
   "outputs": [
    {
     "name": "stdout",
     "output_type": "stream",
     "text": [
      "\n",
      "Membership Operators:\n",
      "10 in numbers: True\n",
      "5 not in numbers: True\n"
     ]
    }
   ],
   "source": [
    "\n",
    "print(\"\\nMembership Operators:\")\n",
    "numbers = [1, 2, 3, 10]\n",
    "print(\"10 in numbers:\", 10 in numbers)\n",
    "print(\"5 not in numbers:\", 5 not in numbers)\n"
   ]
  },
  {
   "cell_type": "markdown",
   "id": "d197a30b-1766-4eda-ba60-f3c240cd0519",
   "metadata": {},
   "source": [
    "4 -Completes the following steps of small task:\n",
    "- Mention Marks of English , Islamiat and Maths out of 100 in 3 different variables\n",
    "- Mention Variable of Total Marks and assign 300 to it\n",
    "- Calculate Percentage"
   ]
  },
  {
   "cell_type": "code",
   "execution_count": 8,
   "id": "4ecded83-1aa9-4937-9aef-6be22a1ae195",
   "metadata": {},
   "outputs": [
    {
     "name": "stdout",
     "output_type": "stream",
     "text": [
      "Marks Obtained: 270\n",
      "Percentage: 90.0 %\n"
     ]
    }
   ],
   "source": [
    "english = 85\n",
    "islamiat = 90\n",
    "maths = 95\n",
    "\n",
    "total_marks = 300\n",
    "obtained = english + islamiat + maths\n",
    "percentage = (obtained / total_marks) * 100\n",
    "\n",
    "print(\"Marks Obtained:\", obtained)\n",
    "print(\"Percentage:\", percentage, \"%\")\n"
   ]
  }
 ],
 "metadata": {
  "kernelspec": {
   "display_name": "Python [conda env:base] *",
   "language": "python",
   "name": "conda-base-py"
  },
  "language_info": {
   "codemirror_mode": {
    "name": "ipython",
    "version": 3
   },
   "file_extension": ".py",
   "mimetype": "text/x-python",
   "name": "python",
   "nbconvert_exporter": "python",
   "pygments_lexer": "ipython3",
   "version": "3.13.5"
  },
  "widgets": {
   "application/vnd.jupyter.widget-state+json": {
    "state": {},
    "version_major": 2,
    "version_minor": 0
   }
  }
 },
 "nbformat": 4,
 "nbformat_minor": 5
}
